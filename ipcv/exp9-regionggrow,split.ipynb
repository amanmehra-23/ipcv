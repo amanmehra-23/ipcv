{
 "cells": [
  {
   "cell_type": "code",
   "execution_count": 1,
   "id": "b6e9cc45",
   "metadata": {},
   "outputs": [],
   "source": [
    "import numpy as np\n",
    "import pandas as pd\n",
    "import matplotlib.pyplot as plt\n",
    "from PIL import Image"
   ]
  },
  {
   "cell_type": "code",
   "execution_count": 2,
   "id": "4006ef64",
   "metadata": {},
   "outputs": [],
   "source": [
    "data = pd.read_csv(\"mnist_train.csv\")"
   ]
  },
  {
   "cell_type": "code",
   "execution_count": 8,
   "id": "666ba4ed",
   "metadata": {},
   "outputs": [],
   "source": [
    "rownum  = 10\n",
    "if -1<rownum <len(data):\n",
    "    pixels = data.iloc[rownum,1:].values.reshape(28,28)\n",
    "    image =np.array(pixels,dtype=np.uint8)\n"
   ]
  },
  {
   "cell_type": "code",
   "execution_count": 9,
   "id": "8937023f",
   "metadata": {},
   "outputs": [
    {
     "data": {
      "text/plain": [
       "Text(0.5, 1.0, 'Original Image')"
      ]
     },
     "execution_count": 9,
     "metadata": {},
     "output_type": "execute_result"
    },
    {
     "data": {
      "image/png": "[encoded data removed]",
      "text/plain": [
       "<Figure size 640x480 with 1 Axes>"
      ]
     },
     "metadata": {},
     "output_type": "display_data"
    }
   ],
   "source": [
    "plt.imshow(image,cmap='gray')\n",
    "plt.title(\"Original Image\")"
   ]
  },
  {
   "cell_type": "code",
   "execution_count": 10,
   "id": "3b88a870",
   "metadata": {},
   "outputs": [],
   "source": [
    "def region_growing(image, seed, threshold):\n",
    "    rows, cols = image.shape\n",
    "    segmented = np.zeros((rows, cols), dtype=np.uint8)  # Binary output image\n",
    "    visited = np.zeros((rows, cols), dtype=bool)\n",
    "    region = [seed]\n",
    "    region_mean = image[seed]\n",
    "    segmented[seed] = 255\n",
    "    visited[seed] = True\n",
    "    \n",
    "    directions = [(-1, 0), (1, 0), (0, -1), (0, 1)]  # Neighboring pixels (N, S, W, E)\n",
    "\n",
    "    while region:\n",
    "        current_pixel = region.pop(0)\n",
    "        for direction in directions:\n",
    "            neighbor = (current_pixel[0] + direction[0], current_pixel[1] + direction[1])\n",
    "            if (\n",
    "                0 <= neighbor[0] < rows and\n",
    "                0 <= neighbor[1] < cols and\n",
    "                not visited[neighbor]\n",
    "            ):\n",
    "                diff = abs(int(image[neighbor]) - int(region_mean))\n",
    "                if diff <= threshold:\n",
    "                    segmented[neighbor] = 255\n",
    "                    region.append(neighbor)\n",
    "                    visited[neighbor] = True\n",
    "                    region_mean = (region_mean + image[neighbor]) / 2  # Update mean\n",
    "\n",
    "    return segmented\n"
   ]
  },
  {
   "cell_type": "code",
   "execution_count": 11,
   "id": "460bf7c5",
   "metadata": {},
   "outputs": [
    {
     "data": {
      "text/plain": [
       "<matplotlib.image.AxesImage at 0x12da931d0>"
      ]
     },
     "execution_count": 11,
     "metadata": {},
     "output_type": "execute_result"
    },
    {
     "data": {
      "image/png": "[encoded data removed]",
      "text/plain": [
       "<Figure size 1000x500 with 1 Axes>"
      ]
     },
     "metadata": {},
     "output_type": "display_data"
    }
   ],
   "source": [
    "seed = (10, 10)  # Example seed position\n",
    "threshold = 15  # Example threshold\n",
    "\n",
    "# Region Growing\n",
    "region_grown_image = region_growing(image, seed, threshold)\n",
    "plt.figure(figsize=(10, 5))\n",
    "plt.subplot(1, 2, 1)\n",
    "plt.title(\"Region Growing\")\n",
    "plt.imshow(region_grown_image, cmap=\"gray\")"
   ]
  },
  {
   "cell_type": "code",
   "execution_count": 12,
   "id": "e4fef564",
   "metadata": {},
   "outputs": [],
   "source": [
    "def region_split_merge(image, threshold):\n",
    "    rows, cols = image.shape\n",
    "\n",
    "    def split(region):\n",
    "        x, y, w, h = region\n",
    "        sub_regions = []\n",
    "        if w > 1 and h > 1:\n",
    "            hw, hh = w // 2, h // 2\n",
    "            sub_regions.append((x, y, hw, hh))       # Top-left\n",
    "            sub_regions.append((x + hw, y, hw, hh))  # Top-right\n",
    "            sub_regions.append((x, y + hh, hw, hh))  # Bottom-left\n",
    "            sub_regions.append((x + hw, y + hh, hw, hh))  # Bottom-right\n",
    "        return sub_regions\n",
    "\n",
    "    def predicate(region):\n",
    "        x, y, w, h = region\n",
    "        sub_image = image[y:y + h, x:x + w]\n",
    "        mean_intensity = np.mean(sub_image)\n",
    "        max_intensity = np.max(sub_image)\n",
    "        min_intensity = np.min(sub_image)\n",
    "        return (max_intensity - min_intensity) <= threshold\n",
    "\n",
    "    def split_recursive(region):\n",
    "        if predicate(region):\n",
    "            return [region]  # If region satisfies the threshold condition, return it as-is\n",
    "        else:\n",
    "            sub_regions = split(region)\n",
    "            if not sub_regions:\n",
    "                return [region]  # Cannot split further\n",
    "            regions = []\n",
    "            for sub_region in sub_regions:\n",
    "                regions.extend(split_recursive(sub_region))\n",
    "            return regions\n",
    "\n",
    "    def merge(regions):\n",
    "        merged = []\n",
    "        while regions:\n",
    "            base = regions.pop(0)\n",
    "            x1, y1, w1, h1 = base\n",
    "            to_merge = [base]\n",
    "            i = 0\n",
    "            while i < len(regions):\n",
    "                x2, y2, w2, h2 = regions[i]\n",
    "                # Check if two regions are adjacent\n",
    "                if (\n",
    "                    (x1 == x2 + w2 or x1 + w1 == x2 or y1 == y2 + h2 or y1 + h1 == y2)\n",
    "                    and predicate((min(x1, x2), min(y1, y2), max(x1 + w1, x2 + w2) - min(x1, x2), max(y1 + h1, y2 + h2) - min(y1, y2)))\n",
    "                ):\n",
    "                    to_merge.append(regions.pop(i))\n",
    "                else:\n",
    "                    i += 1\n",
    "            # Merge regions\n",
    "            merged_x = min(r[0] for r in to_merge)\n",
    "            merged_y = min(r[1] for r in to_merge)\n",
    "            merged_w = max(r[0] + r[2] for r in to_merge) - merged_x\n",
    "            merged_h = max(r[1] + r[3] for r in to_merge) - merged_y\n",
    "            merged.append((merged_x, merged_y, merged_w, merged_h))\n",
    "        return merged\n",
    "\n",
    "    initial_region = (0, 0, cols, rows)\n",
    "    regions = split_recursive(initial_region)\n",
    "    merged_regions = merge(regions)\n",
    "\n",
    "    # Create output image\n",
    "    output = np.zeros_like(image)\n",
    "    for region in merged_regions:\n",
    "        x, y, w, h = region\n",
    "        output[y:y + h, x:x + w] = 255  # Highlight merged regions in white\n",
    "\n",
    "    return output"
   ]
  },
  {
   "cell_type": "code",
   "execution_count": 13,
   "id": "1c809a6d",
   "metadata": {},
   "outputs": [
    {
     "data": {
      "image/png": "[encoded data removed]",
      "text/plain": [
       "<Figure size 640x480 with 1 Axes>"
      ]
     },
     "metadata": {},
     "output_type": "display_data"
    }
   ],
   "source": [
    "seed = (10, 10)  # Example seed position\n",
    "threshold = 15  # Example threshold\n",
    "# Region Splitting & Merging\n",
    "region_split_merged_image = region_split_merge(image, threshold)\n",
    "plt.subplot(1, 2, 2)\n",
    "plt.title(\"Region Splitting & Merging\")\n",
    "plt.imshow(region_split_merged_image, cmap=\"gray\")\n",
    "\n",
    "plt.show()"
   ]
  },
  {
   "cell_type": "code",
   "execution_count": null,
   "id": "851ca373",
   "metadata": {},
   "outputs": [],
   "source": []
  }
 ],
 "metadata": {
  "kernelspec": {
   "display_name": "Python 3 (ipykernel)",
   "language": "python",
   "name": "python3"
  },
  "language_info": {
   "codemirror_mode": {
    "name": "ipython",
    "version": 3
   },
   "file_extension": ".py",
   "mimetype": "text/x-python",
   "name": "python",
   "nbconvert_exporter": "python",
   "pygments_lexer": "ipython3",
   "version": "3.11.4"
  }
 },
 "nbformat": 4,
 "nbformat_minor": 5
}
